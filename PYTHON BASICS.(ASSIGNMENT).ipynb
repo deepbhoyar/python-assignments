{
 "cells": [
  {
   "cell_type": "code",
   "execution_count": 4,
   "id": "1ec74ee1",
   "metadata": {},
   "outputs": [
    {
     "name": "stdout",
     "output_type": "stream",
     "text": [
      "hello viewers my name is deep bhoyar,i am 22 years old and learning python programming\n"
     ]
    }
   ],
   "source": [
    "msg='hello viewers my name is deep bhoyar,i am 22 years old and learning python programming'\n",
    "print(msg);"
   ]
  },
  {
   "cell_type": "markdown",
   "id": "11cf9ecb",
   "metadata": {},
   "source": [
    "# add"
   ]
  },
  {
   "cell_type": "code",
   "execution_count": 7,
   "id": "071a0c6d",
   "metadata": {},
   "outputs": [
    {
     "name": "stdout",
     "output_type": "stream",
     "text": [
      "30\n"
     ]
    }
   ],
   "source": [
    "num1 = 10\n",
    "num2 = 20\n",
    "sum = num1 + num2\n",
    "print(sum)"
   ]
  },
  {
   "cell_type": "markdown",
   "id": "629a6bd5",
   "metadata": {},
   "source": [
    "# substract"
   ]
  },
  {
   "cell_type": "code",
   "execution_count": 8,
   "id": "6e526839",
   "metadata": {},
   "outputs": [
    {
     "name": "stdout",
     "output_type": "stream",
     "text": [
      "enter number12\n",
      "enter number2\n",
      "substraction of number 10\n"
     ]
    }
   ],
   "source": [
    "a=int(input('enter number'))\n",
    "b=int(input('enter number'))\n",
    "substract=a-b\n",
    "print('substraction of number', substract)"
   ]
  },
  {
   "cell_type": "markdown",
   "id": "2bcb6f51",
   "metadata": {},
   "source": [
    "# divide"
   ]
  },
  {
   "cell_type": "code",
   "execution_count": 9,
   "id": "bf00f453",
   "metadata": {},
   "outputs": [
    {
     "name": "stdout",
     "output_type": "stream",
     "text": [
      "enter a number12\n",
      "enter a number5\n",
      "div of number 2.4\n"
     ]
    }
   ],
   "source": [
    "x=int(input('enter a number'))\n",
    "y=int(input('enter a number'))\n",
    "div=x/y\n",
    "print('div of number', div)\n"
   ]
  },
  {
   "cell_type": "markdown",
   "id": "13888dac",
   "metadata": {},
   "source": [
    "# square\n"
   ]
  },
  {
   "cell_type": "code",
   "execution_count": 10,
   "id": "1f6d91db",
   "metadata": {},
   "outputs": [
    {
     "name": "stdout",
     "output_type": "stream",
     "text": [
      "enter number32\n",
      "square of a number 100\n"
     ]
    }
   ],
   "source": [
    "x=int(input('enter number'))\n",
    "sq=10*10\n",
    "print(\"square of a number\",sq)\n"
   ]
  },
  {
   "cell_type": "markdown",
   "id": "4ad3ea3f",
   "metadata": {},
   "source": [
    "### average"
   ]
  },
  {
   "cell_type": "code",
   "execution_count": 5,
   "id": "f15829c6",
   "metadata": {},
   "outputs": [
    {
     "name": "stdout",
     "output_type": "stream",
     "text": [
      "enter number2\n",
      "enter number3\n",
      "enter number4\n",
      "enter number5\n",
      "enter number6\n",
      "average of 5 number 4.0\n"
     ]
    }
   ],
   "source": [
    "a=int(input('enter number'))\n",
    "b=int(input('enter number'))\n",
    "c=int(input('enter number'))\n",
    "d=int(input('enter number'))\n",
    "e=int(input('enter number'))\n",
    "avg=(a+b+c+d+e)/5\n",
    "print('average of 5 number',avg)\n"
   ]
  },
  {
   "cell_type": "markdown",
   "id": "e53bc27d",
   "metadata": {},
   "source": [
    "# si\n"
   ]
  },
  {
   "cell_type": "code",
   "execution_count": 6,
   "id": "dcde7180",
   "metadata": {},
   "outputs": [
    {
     "name": "stdout",
     "output_type": "stream",
     "text": [
      "enter p10\n",
      "enter t20\n",
      "enter r30\n",
      "simple intrest is 60.0\n"
     ]
    }
   ],
   "source": [
    "a=int(input('enter p'))\n",
    "b=int(input('enter t'))\n",
    "c=int(input('enter r'))\n",
    "SI=(a*b*c)/100\n",
    "print('simple intrest is', SI)\n"
   ]
  },
  {
   "cell_type": "markdown",
   "id": "5e662a5f",
   "metadata": {},
   "source": [
    "# exponent\n"
   ]
  },
  {
   "cell_type": "code",
   "execution_count": 1,
   "id": "5c906f91",
   "metadata": {},
   "outputs": [
    {
     "name": "stdout",
     "output_type": "stream",
     "text": [
      "Enter the number = 6\n",
      "Enter the number = 4\n",
      "Exponent is 1296\n"
     ]
    }
   ],
   "source": [
    "a=int(input('Enter the number = '))\n",
    "b=int(input('Enter the number = '))\n",
    "Exponent=a**b\n",
    "print('Exponent is',Exponent)"
   ]
  },
  {
   "cell_type": "markdown",
   "id": "866adcef",
   "metadata": {},
   "source": [
    "# quadratic eqn,\n"
   ]
  },
  {
   "cell_type": "code",
   "execution_count": 3,
   "id": "b37ad6a4",
   "metadata": {},
   "outputs": [
    {
     "name": "stdout",
     "output_type": "stream",
     "text": [
      "Enter the number = 6\n",
      "Enter the number = 5\n",
      "Enter the number = 2\n",
      "Discriminant of the number is  -23\n"
     ]
    }
   ],
   "source": [
    "a=int(input('Enter the number = '))\n",
    "b=int(input('Enter the number = '))\n",
    "c=int(input('Enter the number = '))\n",
    "Discriminant=b**2-4*a*c\n",
    "print('Discriminant of the number is ',Discriminant)\n"
   ]
  },
  {
   "cell_type": "markdown",
   "id": "dbb70c4f",
   "metadata": {},
   "source": [
    "# Areas of following shapes\n",
    "1.rectangle\n",
    "2.square\n",
    "3.triangle\n",
    "4.circle\n",
    "\n"
   ]
  },
  {
   "cell_type": "code",
   "execution_count": 12,
   "id": "a1abcc4f",
   "metadata": {},
   "outputs": [
    {
     "name": "stdout",
     "output_type": "stream",
     "text": [
      "Enter the length of rectangle = 8\n",
      "Enter the breath of rectangle = 12\n",
      "Area of Rectangle is 96\n"
     ]
    }
   ],
   "source": [
    "l=int(input('Enter the length of rectangle = '))\n",
    "b=int(input('Enter the breath of rectangle = '))\n",
    "area=l*b\n",
    "print('Area of Rectangle is',area)"
   ]
  },
  {
   "cell_type": "code",
   "execution_count": 13,
   "id": "dd6f1c23",
   "metadata": {},
   "outputs": [
    {
     "name": "stdout",
     "output_type": "stream",
     "text": [
      "Enter the length of side = 12\n",
      "Area of square is 144\n"
     ]
    }
   ],
   "source": [
    "side=int(input('Enter the length of side = '))\n",
    "area=side**2\n",
    "print('Area of square is',area)\n"
   ]
  },
  {
   "cell_type": "code",
   "execution_count": 14,
   "id": "03fda85b",
   "metadata": {},
   "outputs": [
    {
     "name": "stdout",
     "output_type": "stream",
     "text": [
      "Enter the breadth of triangle = 21\n",
      "Enter the height of triangle = 25\n",
      "Area of triangle is  262.5\n"
     ]
    }
   ],
   "source": [
    "b=int(input('Enter the breadth of triangle = '))\n",
    "h=int(input('Enter the height of triangle = '))\n",
    "area=0.5*b*h\n",
    "print('Area of triangle is ',area)"
   ]
  },
  {
   "cell_type": "code",
   "execution_count": 15,
   "id": "df48b917",
   "metadata": {},
   "outputs": [
    {
     "name": "stdout",
     "output_type": "stream",
     "text": [
      "Enter the radius of a circle = 12\n",
      "Area of circle 452.16\n"
     ]
    }
   ],
   "source": [
    "r=int(input('Enter the radius of a circle = '))\n",
    "area=3.14*r**2\n",
    "print('Area of circle',area)"
   ]
  },
  {
   "cell_type": "markdown",
   "id": "6c501be7",
   "metadata": {},
   "source": [
    "####  Write a program to calculate net salary of an employeewhose basic salary is entered by the user,DA is 5% of basic salary,HRA is 7% of basic salary and PF is 3% of Basic Salary\n"
   ]
  },
  {
   "cell_type": "code",
   "execution_count": 16,
   "id": "78676e07",
   "metadata": {},
   "outputs": [
    {
     "name": "stdout",
     "output_type": "stream",
     "text": [
      "Enter the base salary = 25000\n",
      "Net Salary = 27212.5\n"
     ]
    }
   ],
   "source": [
    "basic=int(input('Enter the base salary = '))\n",
    "da=float(basic*0.05)\n",
    "hra=float(basic*0.07)\n",
    "pf=float((basic+da)*0.03)\n",
    "Netsalary=float(basic+da+hra)\n",
    "grosspay=float(Netsalary-pf)\n",
    "print('Net Salary =',grosspay)"
   ]
  },
  {
   "cell_type": "markdown",
   "id": "7938f55f",
   "metadata": {},
   "source": [
    "# Write a program to get the Python version you are using.\n"
   ]
  },
  {
   "cell_type": "code",
   "execution_count": 17,
   "id": "5bda13f5",
   "metadata": {},
   "outputs": [
    {
     "name": "stdout",
     "output_type": "stream",
     "text": [
      "3.9.13 (main, Aug 25 2022, 23:51:50) [MSC v.1916 64 bit (AMD64)]\n"
     ]
    }
   ],
   "source": [
    "import sys\n",
    "print(sys.version)\n",
    "\n"
   ]
  },
  {
   "cell_type": "code",
   "execution_count": null,
   "id": "e40a7ae6",
   "metadata": {},
   "outputs": [],
   "source": []
  }
 ],
 "metadata": {
  "kernelspec": {
   "display_name": "Python 3 (ipykernel)",
   "language": "python",
   "name": "python3"
  },
  "language_info": {
   "codemirror_mode": {
    "name": "ipython",
    "version": 3
   },
   "file_extension": ".py",
   "mimetype": "text/x-python",
   "name": "python",
   "nbconvert_exporter": "python",
   "pygments_lexer": "ipython3",
   "version": "3.9.13"
  }
 },
 "nbformat": 4,
 "nbformat_minor": 5
}
