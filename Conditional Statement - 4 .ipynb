{
 "cells": [
  {
   "cell_type": "markdown",
   "id": "17154171",
   "metadata": {},
   "source": [
    "#### 1. A company decided to give a bonus of 5% to employee if his/her year of service is more than 5 years. Ask user for their salary and year of service and print the net bonus amount."
   ]
  },
  {
   "cell_type": "code",
   "execution_count": 3,
   "id": "35022ee1",
   "metadata": {},
   "outputs": [
    {
     "name": "stdout",
     "output_type": "stream",
     "text": [
      "Enter your salary = 35000\n",
      "Enter your total year of experience = 5.5\n",
      "Your bonus amount is  1750.0\n"
     ]
    }
   ],
   "source": [
    "salary = int(input(\"Enter your salary = \"))\n",
    "exp = float(input(\"Enter your total year of experience = \"))\n",
    "if exp>5:\n",
    "    print(\"Your bonus amount is \", salary*0.05)\n",
    "else:\n",
    "    print(\"You are not eligible for bonus\")"
   ]
  },
  {
   "cell_type": "markdown",
   "id": "4f396d24",
   "metadata": {},
   "source": [
    "### 2. Write a program to take length and breadth of a rectangle from user and check if it is square or not."
   ]
  },
  {
   "cell_type": "code",
   "execution_count": 6,
   "id": "eab4a246",
   "metadata": {},
   "outputs": [
    {
     "name": "stdout",
     "output_type": "stream",
     "text": [
      "Enter the length = 12\n",
      "Enter the breadth = 5\n",
      "It is not a square.\n"
     ]
    }
   ],
   "source": [
    "l = input(\"Enter the length = \")\n",
    "b = input(\"Enter the breadth = \")\n",
    "if l==b:\n",
    "    print(\"It is a square as both sides of equal length.\")\n",
    "else:\n",
    "    print(\"It is not a square.\")"
   ]
  },
  {
   "cell_type": "markdown",
   "id": "a3759504",
   "metadata": {},
   "source": [
    "### 3. Take input age of 3 people by user and determine oldest and youngest amoung them."
   ]
  },
  {
   "cell_type": "code",
   "execution_count": 20,
   "id": "36cc49cf",
   "metadata": {},
   "outputs": [
    {
     "name": "stdout",
     "output_type": "stream",
     "text": [
      "Enter the age of person 1 = 12\n",
      "Enter the age of person 2 = 13\n",
      "Enter the age of person 3 = 16\n",
      "Person 3 is the oldest Age =  16\n",
      "Person 1 is the youngest Age =  12\n"
     ]
    }
   ],
   "source": [
    "p1 = int(input('Enter the age of person 1 = '))\n",
    "p2 = int(input('Enter the age of person 2 = '))\n",
    "p3 = int(input('Enter the age of person 3 = '))\n",
    "if p1>p2 and p1>p3:\n",
    "    print('Person 1 is the oldest Age = ',p1)\n",
    "elif p2>p1 and p2>p3:\n",
    "    print('Person 2 is the oldest Age = ',p2)\n",
    "else:\n",
    "    print('Person 3 is the oldest Age = ',p3)\n",
    "    \n",
    "if p1<p2 and p1<p3:\n",
    "    print('Person 1 is the youngest Age = ',p1)\n",
    "elif p2<p1 and p2<p3:\n",
    "    print('Person 2 is the youngest Age = ',p2)\n",
    "else:\n",
    "    print('Person 3 is the youngest Age = ',p3)"
   ]
  },
  {
   "cell_type": "code",
   "execution_count": null,
   "id": "483b85e2",
   "metadata": {},
   "outputs": [],
   "source": []
  }
 ],
 "metadata": {
  "kernelspec": {
   "display_name": "Python 3 (ipykernel)",
   "language": "python",
   "name": "python3"
  },
  "language_info": {
   "codemirror_mode": {
    "name": "ipython",
    "version": 3
   },
   "file_extension": ".py",
   "mimetype": "text/x-python",
   "name": "python",
   "nbconvert_exporter": "python",
   "pygments_lexer": "ipython3",
   "version": "3.9.13"
  }
 },
 "nbformat": 4,
 "nbformat_minor": 5
}
