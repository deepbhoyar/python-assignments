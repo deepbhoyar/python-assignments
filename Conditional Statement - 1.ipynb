{
 "cells": [
  {
   "cell_type": "markdown",
   "id": "66f8f3cc",
   "metadata": {},
   "source": [
    "#### 1. Write a Programe to check whether a given number is even or odd"
   ]
  },
  {
   "cell_type": "code",
   "execution_count": 6,
   "id": "d43a2620",
   "metadata": {},
   "outputs": [
    {
     "name": "stdout",
     "output_type": "stream",
     "text": [
      "Enter a number = 18\n",
      "The number is even\n"
     ]
    }
   ],
   "source": [
    "x=int(input(\"Enter a number = \"))\n",
    "\n",
    "if x%2==0:\n",
    "    print(\"The number is even\")\n",
    "else:\n",
    "    print(\"The number is odd\")"
   ]
  },
  {
   "cell_type": "markdown",
   "id": "67352731",
   "metadata": {},
   "source": [
    "#### 2. Write a programme to check whether an alphabet is a vowel or consonant"
   ]
  },
  {
   "cell_type": "code",
   "execution_count": 13,
   "id": "cf58a528",
   "metadata": {},
   "outputs": [
    {
     "name": "stdout",
     "output_type": "stream",
     "text": [
      "Enter an alphabet = e\n",
      "e is a vowel\n"
     ]
    }
   ],
   "source": [
    "x=input(\"Enter an alphabet = \")\n",
    "\n",
    "if x=='a' or x=='e' or x=='i' or x=='o' or x=='u' or x=='A' or x=='E' or x=='I' or x=='O' or x=='U':\n",
    "    print(x,\"is a vowel\")\n",
    "else:\n",
    "    print(x,\"is a consonant\")"
   ]
  },
  {
   "cell_type": "markdown",
   "id": "9c041ae4",
   "metadata": {},
   "source": [
    "#### 3. Write a programme to check whether a person is eligible to vote or not."
   ]
  },
  {
   "cell_type": "code",
   "execution_count": 14,
   "id": "2ec432ea",
   "metadata": {},
   "outputs": [
    {
     "name": "stdout",
     "output_type": "stream",
     "text": [
      "Enter age of the person = 17\n",
      "The person is not eligible to vote\n"
     ]
    }
   ],
   "source": [
    "x=int(input(\"Enter age of the person = \"))\n",
    "if x>=18:\n",
    "    print(\"The person is eligible to vote.\")\n",
    "else:\n",
    "    print(\"The person is not eligible to vote\")"
   ]
  },
  {
   "cell_type": "markdown",
   "id": "ca5c45ad",
   "metadata": {},
   "source": [
    "#### 4. Write a programme to check whether a given number is positive, negative or zero."
   ]
  },
  {
   "cell_type": "code",
   "execution_count": 17,
   "id": "6236315f",
   "metadata": {},
   "outputs": [
    {
     "name": "stdout",
     "output_type": "stream",
     "text": [
      "Enter number = 12\n",
      "The number is positive\n"
     ]
    }
   ],
   "source": [
    "x=int(input(\"Enter number = \"))\n",
    "if x<0:\n",
    "    print(\"The number is negative\")\n",
    "elif x==0:\n",
    "    print(\"The number is zero\")\n",
    "else:\n",
    "    print(\"The number is positive\")"
   ]
  },
  {
   "cell_type": "markdown",
   "id": "71b29964",
   "metadata": {},
   "source": [
    "#### 5. Write a programme to check whether a given year is leap or not."
   ]
  },
  {
   "cell_type": "code",
   "execution_count": 19,
   "id": "a1f8af5c",
   "metadata": {},
   "outputs": [
    {
     "name": "stdout",
     "output_type": "stream",
     "text": [
      "Enter the year = 2015\n",
      "2015 is not a leap year\n"
     ]
    }
   ],
   "source": [
    "x=int(input(\"Enter the year = \"))\n",
    "if x%4==0:\n",
    "    print(x,\"is a leap year\")\n",
    "else:\n",
    "    print(x,\"is not a leap year\")"
   ]
  },
  {
   "cell_type": "markdown",
   "id": "7921cd67",
   "metadata": {},
   "source": [
    "#### 6. Write a programme to check triangle is equilateral,isosceles or scalene triangle."
   ]
  },
  {
   "cell_type": "code",
   "execution_count": 20,
   "id": "c9b9c5ec",
   "metadata": {},
   "outputs": [
    {
     "name": "stdout",
     "output_type": "stream",
     "text": [
      "Input lengths of the triangle sides: \n",
      "x = 40\n",
      "y = 40\n",
      "z = 60\n",
      "Isosceles triangle\n"
     ]
    }
   ],
   "source": [
    "print(\"Input lengths of the triangle sides: \")\n",
    "x = int(input(\"x = \"))\n",
    "y = int(input(\"y = \"))\n",
    "z = int(input(\"z = \"))\n",
    "\n",
    "if x == y == z:\n",
    "    print(\"Equilateral triangle\")\n",
    "elif x==y or y==z or z==x:\n",
    "    print(\"Isosceles triangle\")\n",
    "else:\n",
    "    print(\"Scalene triangle\")"
   ]
  },
  {
   "cell_type": "markdown",
   "id": "7809ad7c",
   "metadata": {},
   "source": [
    "#### 7. Write a programme to check whether after a selling a product its a profit or loss."
   ]
  },
  {
   "cell_type": "code",
   "execution_count": 22,
   "id": "998d7608",
   "metadata": {},
   "outputs": [
    {
     "name": "stdout",
     "output_type": "stream",
     "text": [
      "Enter cost price of the product = 100\n",
      "Enter selling price of the product = 120\n",
      "Profit : 20.0\n"
     ]
    }
   ],
   "source": [
    "cp=float(input(\"Enter cost price of the product = \"))\n",
    "sp=float(input(\"Enter selling price of the product = \"))\n",
    "\n",
    "if sp > cp:\n",
    "    profit = sp - cp\n",
    "    print(\"Profit :\",profit)\n",
    "elif cp > sp :\n",
    "    loss = cp - sp\n",
    "    print(\"Loss :\",loss)\n",
    "else:\n",
    "    print(\"No Profit No Loss\")"
   ]
  },
  {
   "cell_type": "code",
   "execution_count": null,
   "id": "8cd54ab1",
   "metadata": {},
   "outputs": [],
   "source": []
  }
 ],
 "metadata": {
  "kernelspec": {
   "display_name": "Python 3 (ipykernel)",
   "language": "python",
   "name": "python3"
  },
  "language_info": {
   "codemirror_mode": {
    "name": "ipython",
    "version": 3
   },
   "file_extension": ".py",
   "mimetype": "text/x-python",
   "name": "python",
   "nbconvert_exporter": "python",
   "pygments_lexer": "ipython3",
   "version": "3.9.13"
  }
 },
 "nbformat": 4,
 "nbformat_minor": 5
}
