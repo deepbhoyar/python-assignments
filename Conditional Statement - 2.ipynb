{
 "cells": [
  {
   "cell_type": "markdown",
   "id": "8c899d1f",
   "metadata": {},
   "source": [
    "### 1. Write a programme to enter two numbers and print the greatest number."
   ]
  },
  {
   "cell_type": "code",
   "execution_count": 9,
   "id": "e74fb4c6",
   "metadata": {},
   "outputs": [
    {
     "name": "stdout",
     "output_type": "stream",
     "text": [
      "Enter number = 50\n",
      "Enter another number = 100\n",
      "The greatest number is =  100\n"
     ]
    }
   ],
   "source": [
    "num1=int(input(\"Enter first number = \"))\n",
    "num2=int(input(\"Enter second number = \"))\n",
    "if num1>num2:\n",
    "    print(\"The greatest number is = \", num1)\n",
    "elif num1<num2:\n",
    "    print(\"The greatest number is = \", num2)\n",
    "else:\n",
    "    print(\"Both numbers are equal\")"
   ]
  },
  {
   "cell_type": "markdown",
   "id": "51207e7d",
   "metadata": {},
   "source": [
    "### 2. Write a programme to enter two numbers and print the smallest number."
   ]
  },
  {
   "cell_type": "code",
   "execution_count": 10,
   "id": "44d7336e",
   "metadata": {},
   "outputs": [
    {
     "name": "stdout",
     "output_type": "stream",
     "text": [
      "Enter first number = 1000\n",
      "Enter second number = 5\n",
      "The smallest number is =  5\n"
     ]
    }
   ],
   "source": [
    "num1=int(input(\"Enter first number = \"))\n",
    "num2=int(input(\"Enter second number = \"))\n",
    "if num1>num2:\n",
    "    print(\"The smallest number is = \", num2)\n",
    "elif num1<num2:\n",
    "    print(\"The smallest number is = \", num1)\n",
    "else:\n",
    "    print(\"Both numbers are equal\")"
   ]
  },
  {
   "cell_type": "markdown",
   "id": "23b0c0b6",
   "metadata": {},
   "source": [
    "### 3. Write a program to enter three numbers and print the greatest number."
   ]
  },
  {
   "cell_type": "code",
   "execution_count": 16,
   "id": "bcc6bfad",
   "metadata": {},
   "outputs": [
    {
     "name": "stdout",
     "output_type": "stream",
     "text": [
      "Enter first number = 10\n",
      "Enter second number = 20\n",
      "Enter third number = 30\n",
      "The greatest number is =  30\n"
     ]
    }
   ],
   "source": [
    "num1=int(input(\"Enter first number = \"))\n",
    "num2=int(input(\"Enter second number = \"))\n",
    "num3=int(input(\"Enter third number = \"))\n",
    "\n",
    "if num1==num2==num3:\n",
    "    print(\"All the numbers are equal.\")\n",
    "else:    \n",
    "    print(\"The greatest number is = \",max(num1,num2,num3))"
   ]
  },
  {
   "cell_type": "markdown",
   "id": "b0c02a17",
   "metadata": {},
   "source": [
    "### 4. Write a program to enter three numbers and print the smallest number."
   ]
  },
  {
   "cell_type": "code",
   "execution_count": 17,
   "id": "f40225c6",
   "metadata": {},
   "outputs": [
    {
     "name": "stdout",
     "output_type": "stream",
     "text": [
      "Enter first number = 10\n",
      "Enter second number = 20\n",
      "Enter third number = 30\n",
      "The smallest number is =  10\n"
     ]
    }
   ],
   "source": [
    "num1=int(input(\"Enter first number = \"))\n",
    "num2=int(input(\"Enter second number = \"))\n",
    "num3=int(input(\"Enter third number = \"))\n",
    "\n",
    "if num1==num2==num3:\n",
    "    print(\"All the numbers are equal.\")\n",
    "else:    \n",
    "    print(\"The smallest number is = \",min(num1,num2,num3))"
   ]
  },
  {
   "cell_type": "markdown",
   "id": "eeaa00f6",
   "metadata": {},
   "source": [
    "### 5. Write a program to calculate the roots of quadratic equation"
   ]
  },
  {
   "cell_type": "code",
   "execution_count": 19,
   "id": "2d066b8d",
   "metadata": {},
   "outputs": [
    {
     "name": "stdout",
     "output_type": "stream",
     "text": [
      "The roots are\n",
      "(-0.625-0.9270248108869579j)\n",
      "(-0.625+0.9270248108869579j)\n"
     ]
    }
   ],
   "source": [
    "import cmath\n",
    "  \n",
    "a = 4\n",
    "b = 5\n",
    "c = 5\n",
    "  \n",
    "dis = (b**2) - (4 * a*c)\n",
    "  \n",
    "ans1 = (-b-cmath.sqrt(dis))/(2 * a)\n",
    "ans2 = (-b + cmath.sqrt(dis))/(2 * a)\n",
    "  \n",
    "print('The roots are')\n",
    "print(ans1)\n",
    "print(ans2)"
   ]
  },
  {
   "cell_type": "markdown",
   "id": "2425da2b",
   "metadata": {},
   "source": [
    "### 6. Write a program to enter a number between (1-7) and print respective day of the week."
   ]
  },
  {
   "cell_type": "code",
   "execution_count": 3,
   "id": "675f1510",
   "metadata": {},
   "outputs": [
    {
     "name": "stdout",
     "output_type": "stream",
     "text": [
      "Enter a number between 1 to 7 = 5\n",
      "Thursday\n"
     ]
    }
   ],
   "source": [
    "x=int(input(\"Enter a number between 1 to 7 = \"))\n",
    "if x==1:\n",
    "    print(\"Sunday\")\n",
    "elif x==2:\n",
    "    print(\"Monday\")\n",
    "elif x==3:\n",
    "    print(\"Tuesday\")\n",
    "elif x==4:\n",
    "    print(\"Wednesday\")\n",
    "elif x==5:\n",
    "    print(\"Thursday\")\n",
    "elif x==6:\n",
    "    print(\"Friday\")\n",
    "elif x==7:\n",
    "    print(\"Saturday\")\n",
    "else:\n",
    "    print(\"Invalid Input\")"
   ]
  },
  {
   "cell_type": "code",
   "execution_count": null,
   "id": "9fed0dbe",
   "metadata": {},
   "outputs": [],
   "source": []
  }
 ],
 "metadata": {
  "kernelspec": {
   "display_name": "Python 3 (ipykernel)",
   "language": "python",
   "name": "python3"
  },
  "language_info": {
   "codemirror_mode": {
    "name": "ipython",
    "version": 3
   },
   "file_extension": ".py",
   "mimetype": "text/x-python",
   "name": "python",
   "nbconvert_exporter": "python",
   "pygments_lexer": "ipython3",
   "version": "3.9.13"
  }
 },
 "nbformat": 4,
 "nbformat_minor": 5
}
