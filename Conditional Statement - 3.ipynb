{
 "cells": [
  {
   "cell_type": "markdown",
   "id": "f57608d2",
   "metadata": {},
   "source": [
    "### 1. Write a program to enter a number between (1-12) and print the repective month."
   ]
  },
  {
   "cell_type": "code",
   "execution_count": 3,
   "id": "5445215a",
   "metadata": {},
   "outputs": [
    {
     "name": "stdout",
     "output_type": "stream",
     "text": [
      "Enter a number between 1-12 = 13\n",
      "The number is invalid\n"
     ]
    }
   ],
   "source": [
    "n= int(input(\"Enter a number between 1-12 = \"))\n",
    "if n==1:\n",
    "    print('January')\n",
    "elif n==2:\n",
    "    print('February')\n",
    "elif n==3:\n",
    "    print('March')\n",
    "elif n==4:\n",
    "    print('April')\n",
    "elif n==5:\n",
    "    print('May')\n",
    "elif n==6:\n",
    "    print('June')\n",
    "elif n==7:\n",
    "    print('July')\n",
    "elif n==8:\n",
    "    print('August')\n",
    "elif n==9:\n",
    "    print('September')\n",
    "elif n==10:\n",
    "    print('October')\n",
    "elif n==11:\n",
    "    print('November')\n",
    "elif n==12:\n",
    "    print('December')\n",
    "else:\n",
    "    print('The number is invalid')"
   ]
  },
  {
   "cell_type": "markdown",
   "id": "ba8965f7",
   "metadata": {},
   "source": [
    "### Alternate method"
   ]
  },
  {
   "cell_type": "code",
   "execution_count": 10,
   "id": "81b51e10",
   "metadata": {},
   "outputs": [
    {
     "name": "stdout",
     "output_type": "stream",
     "text": [
      "Enter a number between 1-12 = 5\n",
      "The month is: May\n"
     ]
    }
   ],
   "source": [
    "import calendar\n",
    "\n",
    "num = int(input('Enter a number between 1-12 = '))\n",
    "\n",
    "# get month name\n",
    "print('The month is:', calendar.month_name[num])"
   ]
  },
  {
   "cell_type": "markdown",
   "id": "5be52255",
   "metadata": {},
   "source": [
    "### 2.Write a program to enter a number bet 1 to 4 and perform the mathematical operations."
   ]
  },
  {
   "cell_type": "code",
   "execution_count": 11,
   "id": "fb9a63d7",
   "metadata": {},
   "outputs": [
    {
     "name": "stdout",
     "output_type": "stream",
     "text": [
      "Select operation.\n",
      "1.Add\n",
      "2.Subtract\n",
      "3.Multiply\n",
      "4.Divide\n",
      "Enter choice(1/2/3/4): 5\n",
      "Invalid Input\n",
      "Enter choice(1/2/3/4): 3\n",
      "Enter first number: 5\n",
      "Enter second number: 5\n",
      "5.0 * 5.0 = 25.0\n",
      "Let's do next calculation? (yes/no): no\n"
     ]
    }
   ],
   "source": [
    "def add(x, y):\n",
    "    return x + y\n",
    "\n",
    "def subtract(x, y):\n",
    "    return x - y\n",
    "\n",
    "def multiply(x, y):\n",
    "    return x * y\n",
    "\n",
    "def divide(x, y):\n",
    "    return x / y\n",
    "\n",
    "\n",
    "print(\"Select operation.\")\n",
    "print(\"1.Add\")\n",
    "print(\"2.Subtract\")\n",
    "print(\"3.Multiply\")\n",
    "print(\"4.Divide\")\n",
    "\n",
    "while True:\n",
    "    \n",
    "    choice = input(\"Enter choice(1/2/3/4): \")\n",
    "\n",
    "    if choice in ('1', '2', '3', '4'):\n",
    "        try:\n",
    "            num1 = float(input(\"Enter first number: \"))\n",
    "            num2 = float(input(\"Enter second number: \"))\n",
    "        except ValueError:\n",
    "            print(\"Invalid input. Please enter a number.\")\n",
    "            continue\n",
    "\n",
    "        if choice == '1':\n",
    "            print(num1, \"+\", num2, \"=\", add(num1, num2))\n",
    "\n",
    "        elif choice == '2':\n",
    "            print(num1, \"-\", num2, \"=\", subtract(num1, num2))\n",
    "\n",
    "        elif choice == '3':\n",
    "            print(num1, \"*\", num2, \"=\", multiply(num1, num2))\n",
    "\n",
    "        elif choice == '4':\n",
    "            print(num1, \"/\", num2, \"=\", divide(num1, num2))\n",
    "        \n",
    "        next_calculation = input(\"Let's do next calculation? (yes/no): \")\n",
    "        if next_calculation == \"no\":\n",
    "          break\n",
    "    else:\n",
    "        print(\"Invalid Input\")"
   ]
  },
  {
   "cell_type": "markdown",
   "id": "005d140f",
   "metadata": {},
   "source": [
    "### 3. Write a program to convert temperature from c to f."
   ]
  },
  {
   "cell_type": "code",
   "execution_count": 17,
   "id": "f793b62c",
   "metadata": {},
   "outputs": [
    {
     "name": "stdout",
     "output_type": "stream",
     "text": [
      "Enter the temperature in Celsius = 37\n",
      "The temperature in Fahrenheit =  98.6\n"
     ]
    }
   ],
   "source": [
    "temp = float(input(\"Enter the temperature in Celsius = \")) #temperature in celsius\n",
    "Fahrenheit= (temp * 1.8)+32\n",
    "print(\"The temperature in Fahrenheit = \",round(Fahrenheit,2))"
   ]
  },
  {
   "cell_type": "code",
   "execution_count": null,
   "id": "f9749c07",
   "metadata": {},
   "outputs": [],
   "source": []
  }
 ],
 "metadata": {
  "kernelspec": {
   "display_name": "Python 3 (ipykernel)",
   "language": "python",
   "name": "python3"
  },
  "language_info": {
   "codemirror_mode": {
    "name": "ipython",
    "version": 3
   },
   "file_extension": ".py",
   "mimetype": "text/x-python",
   "name": "python",
   "nbconvert_exporter": "python",
   "pygments_lexer": "ipython3",
   "version": "3.9.13"
  }
 },
 "nbformat": 4,
 "nbformat_minor": 5
}
